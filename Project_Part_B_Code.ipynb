{
  "nbformat": 4,
  "nbformat_minor": 0,
  "metadata": {
    "colab": {
      "name": "Project Part B.ipynb",
      "provenance": [],
      "collapsed_sections": []
    },
    "kernelspec": {
      "display_name": "Python 3",
      "language": "python",
      "name": "python3"
    },
    "language_info": {
      "codemirror_mode": {
        "name": "ipython",
        "version": 3
      },
      "file_extension": ".py",
      "mimetype": "text/x-python",
      "name": "python",
      "nbconvert_exporter": "python",
      "pygments_lexer": "ipython3",
      "version": "3.8.5"
    }
  },
  "cells": [
    {
      "cell_type": "markdown",
      "metadata": {
        "id": "wZDD5tQTYKnb"
      },
      "source": [
        "# **Project Part B**\n"
      ]
    },
    {
      "cell_type": "markdown",
      "metadata": {
        "id": "GOBl1VICYKnc"
      },
      "source": [
        "This is the requirement of Data Science process components for Project Part B consists of Questions, Data collection, Data pre-processing,\n",
        "EDA and Data visualization"
      ]
    },
    {
      "cell_type": "markdown",
      "metadata": {
        "id": "FQSzNRJJHnhK"
      },
      "source": [
        "## **C4 - Group Members**\n",
        " \n",
        "1. Tala Maan Altaifi 1191302030\n",
        "2. Nur Adlina Marini Binti Amir Suharman 1181100317\n",
        "3. Nadia Ahmad Pirdaus 1171103742"
      ]
    },
    {
      "cell_type": "markdown",
      "metadata": {
        "id": "RswVDICwYKnf"
      },
      "source": [
        "### **Data Collection**\n",
        "\n",
        "\n",
        "\n",
        "\n"
      ]
    },
    {
      "cell_type": "markdown",
      "metadata": {
        "id": "WFa2smfVa3jd"
      },
      "source": [
        "Given the data from FinCEN:\n",
        "\n",
        "[Source: https://www.icij.org/investigations/fincen-files/download-fincen-files-transaction-data/ ]"
      ]
    },
    {
      "cell_type": "code",
      "metadata": {
        "id": "v6G6SPDKbTSR"
      },
      "source": [
        "import numpy as np\n",
        "import pandas as pd\n",
        "import matplotlib.pyplot as plt\n",
        "%matplotlib inline\n",
        "import seaborn as sns\n",
        "from sklearn import preprocessing\n",
        "\n",
        "import warnings\n",
        "warnings.filterwarnings('ignore')\n",
        "\n",
        "#pd.options.display.float_format = \"{:.2f}\".format"
      ],
      "execution_count": 18,
      "outputs": []
    },
    {
      "cell_type": "code",
      "metadata": {
        "colab": {
          "base_uri": "https://localhost:8080/"
        },
        "id": "O0u6reDkqX54",
        "outputId": "9a8b101b-4844-44dd-eb94-66b72f77cbdc"
      },
      "source": [
        "from google.colab import drive\n",
        "drive.mount ('/content/drive/')"
      ],
      "execution_count": 19,
      "outputs": [
        {
          "output_type": "stream",
          "text": [
            "Drive already mounted at /content/drive/; to attempt to forcibly remount, call drive.mount(\"/content/drive/\", force_remount=True).\n"
          ],
          "name": "stdout"
        }
      ]
    },
    {
      "cell_type": "code",
      "metadata": {
        "id": "yR9uxAmebUbE",
        "colab": {
          "base_uri": "https://localhost:8080/",
          "height": 612
        },
        "outputId": "8077cc2d-2a4a-4d85-9997-50e7aa08c23d"
      },
      "source": [
        "# To read CSV file data from FinCEN\n",
        "df = pd.read_csv('/content/drive/Shareddrives/IDS Assignment /Project Part B/download_transactions_map.csv')\n",
        "df"
      ],
      "execution_count": 20,
      "outputs": [
        {
          "output_type": "execute_result",
          "data": {
            "text/html": [
              "<div>\n",
              "<style scoped>\n",
              "    .dataframe tbody tr th:only-of-type {\n",
              "        vertical-align: middle;\n",
              "    }\n",
              "\n",
              "    .dataframe tbody tr th {\n",
              "        vertical-align: top;\n",
              "    }\n",
              "\n",
              "    .dataframe thead th {\n",
              "        text-align: right;\n",
              "    }\n",
              "</style>\n",
              "<table border=\"1\" class=\"dataframe\">\n",
              "  <thead>\n",
              "    <tr style=\"text-align: right;\">\n",
              "      <th></th>\n",
              "      <th>id</th>\n",
              "      <th>icij_sar_id</th>\n",
              "      <th>filer_org_name_id</th>\n",
              "      <th>filer_org_name</th>\n",
              "      <th>begin_date</th>\n",
              "      <th>end_date</th>\n",
              "      <th>originator_bank_id</th>\n",
              "      <th>originator_bank</th>\n",
              "      <th>originator_bank_country</th>\n",
              "      <th>originator_iso</th>\n",
              "      <th>beneficiary_bank_id</th>\n",
              "      <th>beneficiary_bank</th>\n",
              "      <th>beneficiary_bank_country</th>\n",
              "      <th>beneficiary_iso</th>\n",
              "      <th>number_transactions</th>\n",
              "      <th>amount_transactions</th>\n",
              "    </tr>\n",
              "  </thead>\n",
              "  <tbody>\n",
              "    <tr>\n",
              "      <th>0</th>\n",
              "      <td>223254</td>\n",
              "      <td>3297</td>\n",
              "      <td>the-bank-of-new-york-mellon-corp</td>\n",
              "      <td>The Bank of New York Mellon Corp.</td>\n",
              "      <td>Mar 25, 2015</td>\n",
              "      <td>Sep 25, 2015</td>\n",
              "      <td>cimb-bank-berhad</td>\n",
              "      <td>CIMB Bank Berhad</td>\n",
              "      <td>Singapore</td>\n",
              "      <td>SGP</td>\n",
              "      <td>barclays-bank-plc-london-england-gbr</td>\n",
              "      <td>Barclays Bank Plc</td>\n",
              "      <td>United Kingdom</td>\n",
              "      <td>GBR</td>\n",
              "      <td>68.0</td>\n",
              "      <td>5.689852e+07</td>\n",
              "    </tr>\n",
              "    <tr>\n",
              "      <th>1</th>\n",
              "      <td>223255</td>\n",
              "      <td>3297</td>\n",
              "      <td>the-bank-of-new-york-mellon-corp</td>\n",
              "      <td>The Bank of New York Mellon Corp.</td>\n",
              "      <td>Mar 30, 2015</td>\n",
              "      <td>Sep 25, 2015</td>\n",
              "      <td>cimb-bank-berhad</td>\n",
              "      <td>CIMB Bank Berhad</td>\n",
              "      <td>Singapore</td>\n",
              "      <td>SGP</td>\n",
              "      <td>barclays-bank-plc-london-england-gbr</td>\n",
              "      <td>Barclays Bank Plc</td>\n",
              "      <td>United Kingdom</td>\n",
              "      <td>GBR</td>\n",
              "      <td>118.0</td>\n",
              "      <td>1.162384e+08</td>\n",
              "    </tr>\n",
              "    <tr>\n",
              "      <th>2</th>\n",
              "      <td>223258</td>\n",
              "      <td>2924</td>\n",
              "      <td>the-bank-of-new-york-mellon-corp</td>\n",
              "      <td>The Bank of New York Mellon Corp.</td>\n",
              "      <td>Jul 5, 2012</td>\n",
              "      <td>Jul 5, 2012</td>\n",
              "      <td>barclays-bank-plc-ho-uk</td>\n",
              "      <td>Barclays Bank Plc Ho UK</td>\n",
              "      <td>United Kingdom</td>\n",
              "      <td>GBR</td>\n",
              "      <td>skandinaviska-enskilda-banken-stockholm-sweden...</td>\n",
              "      <td>Skandinaviska Enskilda Banken</td>\n",
              "      <td>Sweden</td>\n",
              "      <td>SWE</td>\n",
              "      <td>NaN</td>\n",
              "      <td>5.000000e+03</td>\n",
              "    </tr>\n",
              "    <tr>\n",
              "      <th>3</th>\n",
              "      <td>223259</td>\n",
              "      <td>2924</td>\n",
              "      <td>the-bank-of-new-york-mellon-corp</td>\n",
              "      <td>The Bank of New York Mellon Corp.</td>\n",
              "      <td>Jun 20, 2012</td>\n",
              "      <td>Jun 20, 2012</td>\n",
              "      <td>barclays-bank-plc-ho-uk</td>\n",
              "      <td>Barclays Bank Plc Ho UK</td>\n",
              "      <td>United Kingdom</td>\n",
              "      <td>GBR</td>\n",
              "      <td>skandinaviska-enskilda-banken-stockholm-sweden...</td>\n",
              "      <td>Skandinaviska Enskilda Banken</td>\n",
              "      <td>Sweden</td>\n",
              "      <td>SWE</td>\n",
              "      <td>NaN</td>\n",
              "      <td>9.990000e+03</td>\n",
              "    </tr>\n",
              "    <tr>\n",
              "      <th>4</th>\n",
              "      <td>223260</td>\n",
              "      <td>2924</td>\n",
              "      <td>the-bank-of-new-york-mellon-corp</td>\n",
              "      <td>The Bank of New York Mellon Corp.</td>\n",
              "      <td>May 31, 2012</td>\n",
              "      <td>May 31, 2012</td>\n",
              "      <td>barclays-bank-plc-ho-uk</td>\n",
              "      <td>Barclays Bank Plc Ho UK</td>\n",
              "      <td>United Kingdom</td>\n",
              "      <td>GBR</td>\n",
              "      <td>skandinaviska-enskilda-banken-stockholm-sweden...</td>\n",
              "      <td>Skandinaviska Enskilda Banken</td>\n",
              "      <td>Sweden</td>\n",
              "      <td>SWE</td>\n",
              "      <td>NaN</td>\n",
              "      <td>1.200000e+04</td>\n",
              "    </tr>\n",
              "    <tr>\n",
              "      <th>...</th>\n",
              "      <td>...</td>\n",
              "      <td>...</td>\n",
              "      <td>...</td>\n",
              "      <td>...</td>\n",
              "      <td>...</td>\n",
              "      <td>...</td>\n",
              "      <td>...</td>\n",
              "      <td>...</td>\n",
              "      <td>...</td>\n",
              "      <td>...</td>\n",
              "      <td>...</td>\n",
              "      <td>...</td>\n",
              "      <td>...</td>\n",
              "      <td>...</td>\n",
              "      <td>...</td>\n",
              "      <td>...</td>\n",
              "    </tr>\n",
              "    <tr>\n",
              "      <th>4502</th>\n",
              "      <td>243956</td>\n",
              "      <td>2804</td>\n",
              "      <td>deutsche-bank-ag</td>\n",
              "      <td>Deutsche Bank AG</td>\n",
              "      <td>Aug 22, 2016</td>\n",
              "      <td>Aug 22, 2016</td>\n",
              "      <td>ing-netherland-nv</td>\n",
              "      <td>ING Netherland NV</td>\n",
              "      <td>Netherlands</td>\n",
              "      <td>NLD</td>\n",
              "      <td>rigenesis-bank-as-latvia-lva</td>\n",
              "      <td>Rigenesis Bank AS</td>\n",
              "      <td>Latvia</td>\n",
              "      <td>LVA</td>\n",
              "      <td>1.0</td>\n",
              "      <td>2.041555e+07</td>\n",
              "    </tr>\n",
              "    <tr>\n",
              "      <th>4503</th>\n",
              "      <td>243957</td>\n",
              "      <td>2804</td>\n",
              "      <td>deutsche-bank-ag</td>\n",
              "      <td>Deutsche Bank AG</td>\n",
              "      <td>Aug 16, 2016</td>\n",
              "      <td>Aug 16, 2016</td>\n",
              "      <td>rigenesis-bank-as</td>\n",
              "      <td>Rigenesis Bank AS</td>\n",
              "      <td>Latvia</td>\n",
              "      <td>LVA</td>\n",
              "      <td>ing-netherland-nv-netherlands-nld</td>\n",
              "      <td>ING Netherland NV</td>\n",
              "      <td>Netherlands</td>\n",
              "      <td>NLD</td>\n",
              "      <td>1.0</td>\n",
              "      <td>2.300000e+07</td>\n",
              "    </tr>\n",
              "    <tr>\n",
              "      <th>4504</th>\n",
              "      <td>243958</td>\n",
              "      <td>2804</td>\n",
              "      <td>deutsche-bank-ag</td>\n",
              "      <td>Deutsche Bank AG</td>\n",
              "      <td>Aug 16, 2016</td>\n",
              "      <td>Aug 16, 2016</td>\n",
              "      <td>ing-netherland-nv</td>\n",
              "      <td>ING Netherland NV</td>\n",
              "      <td>Netherlands</td>\n",
              "      <td>NLD</td>\n",
              "      <td>rigenesis-bank-as-latvia-lva</td>\n",
              "      <td>Rigenesis Bank AS</td>\n",
              "      <td>Latvia</td>\n",
              "      <td>LVA</td>\n",
              "      <td>1.0</td>\n",
              "      <td>2.341600e+07</td>\n",
              "    </tr>\n",
              "    <tr>\n",
              "      <th>4505</th>\n",
              "      <td>243959</td>\n",
              "      <td>2804</td>\n",
              "      <td>deutsche-bank-ag</td>\n",
              "      <td>Deutsche Bank AG</td>\n",
              "      <td>Jun 14, 2016</td>\n",
              "      <td>Jun 14, 2016</td>\n",
              "      <td>rigenesis-bank-as</td>\n",
              "      <td>Rigenesis Bank AS</td>\n",
              "      <td>Latvia</td>\n",
              "      <td>LVA</td>\n",
              "      <td>ing-netherland-nv-netherlands-nld</td>\n",
              "      <td>ING Netherland NV</td>\n",
              "      <td>Netherlands</td>\n",
              "      <td>NLD</td>\n",
              "      <td>1.0</td>\n",
              "      <td>3.325894e+07</td>\n",
              "    </tr>\n",
              "    <tr>\n",
              "      <th>4506</th>\n",
              "      <td>243960</td>\n",
              "      <td>2804</td>\n",
              "      <td>deutsche-bank-ag</td>\n",
              "      <td>Deutsche Bank AG</td>\n",
              "      <td>Jun 14, 2016</td>\n",
              "      <td>Jun 14, 2016</td>\n",
              "      <td>ing-netherland-nv</td>\n",
              "      <td>ING Netherland NV</td>\n",
              "      <td>Netherlands</td>\n",
              "      <td>NLD</td>\n",
              "      <td>rigenesis-bank-as-latvia-lva</td>\n",
              "      <td>Rigenesis Bank AS</td>\n",
              "      <td>Latvia</td>\n",
              "      <td>LVA</td>\n",
              "      <td>1.0</td>\n",
              "      <td>3.325900e+07</td>\n",
              "    </tr>\n",
              "  </tbody>\n",
              "</table>\n",
              "<p>4507 rows × 16 columns</p>\n",
              "</div>"
            ],
            "text/plain": [
              "          id  icij_sar_id  ... number_transactions amount_transactions\n",
              "0     223254         3297  ...                68.0        5.689852e+07\n",
              "1     223255         3297  ...               118.0        1.162384e+08\n",
              "2     223258         2924  ...                 NaN        5.000000e+03\n",
              "3     223259         2924  ...                 NaN        9.990000e+03\n",
              "4     223260         2924  ...                 NaN        1.200000e+04\n",
              "...      ...          ...  ...                 ...                 ...\n",
              "4502  243956         2804  ...                 1.0        2.041555e+07\n",
              "4503  243957         2804  ...                 1.0        2.300000e+07\n",
              "4504  243958         2804  ...                 1.0        2.341600e+07\n",
              "4505  243959         2804  ...                 1.0        3.325894e+07\n",
              "4506  243960         2804  ...                 1.0        3.325900e+07\n",
              "\n",
              "[4507 rows x 16 columns]"
            ]
          },
          "metadata": {
            "tags": []
          },
          "execution_count": 20
        }
      ]
    },
    {
      "cell_type": "markdown",
      "metadata": {
        "id": "8rKw7mqEhasL"
      },
      "source": [
        "## **Data Preprocessing / Cleaning**\n"
      ]
    },
    {
      "cell_type": "code",
      "metadata": {
        "colab": {
          "base_uri": "https://localhost:8080/"
        },
        "id": "WojNC2m5MVoz",
        "outputId": "60cf6b19-4474-42f8-846e-f36e5219a4a9"
      },
      "source": [
        "### DATA CLEANING ###\n",
        "# 1. drop row if begin_date and end_date is NaN\n",
        "# 2. drop the rows where number_transactions contains NaN values & amount_transactions > 10000\n",
        "# 3. update number_transactions to 1, when amount_transactions < 10000\n",
        "\n",
        "# 1.\n",
        "df_clean1 = df.dropna(subset = ['begin_date', 'end_date'])\n",
        "\n",
        "# creae dataframe to take only rows with NaN values\n",
        "is_NaN = df_clean1.isnull()\n",
        "row_has_NaN = is_NaN.any(axis='columns')\n",
        "df_num_trans_NaN = df_clean1[row_has_NaN]\n",
        "\n",
        "# 2. filter amount_transactions > 1000 & number_transactions is Nan values, then drop the rows\n",
        "df_thres = df_num_trans_NaN[df_num_trans_NaN['amount_transactions'] > 10000]    \n",
        "df_clean2 = pd.concat([df_clean1, df_thres]).drop_duplicates(keep=False)\n",
        "\n",
        "# 3. update the number_transactions NaN values with 1 \n",
        "df_cleaned = df_clean2.fillna(1)\n",
        "df_cleaned.isnull().sum()\n",
        "#df_cleaned.count()\n",
        "#df_cleaned"
      ],
      "execution_count": 21,
      "outputs": [
        {
          "output_type": "execute_result",
          "data": {
            "text/plain": [
              "id                          0\n",
              "icij_sar_id                 0\n",
              "filer_org_name_id           0\n",
              "filer_org_name              0\n",
              "begin_date                  0\n",
              "end_date                    0\n",
              "originator_bank_id          0\n",
              "originator_bank             0\n",
              "originator_bank_country     0\n",
              "originator_iso              0\n",
              "beneficiary_bank_id         0\n",
              "beneficiary_bank            0\n",
              "beneficiary_bank_country    0\n",
              "beneficiary_iso             0\n",
              "number_transactions         0\n",
              "amount_transactions         0\n",
              "dtype: int64"
            ]
          },
          "metadata": {
            "tags": []
          },
          "execution_count": 21
        }
      ]
    },
    {
      "cell_type": "markdown",
      "metadata": {
        "id": "R5MG86sUjE3o"
      },
      "source": [
        "# **Questions, EDA and Data Visualization**"
      ]
    },
    {
      "cell_type": "markdown",
      "metadata": {
        "id": "R6XF_uP2iMtQ"
      },
      "source": [
        "### **Problem 1 - Trends in suspicious behaviour when it comes to money transactions**"
      ]
    },
    {
      "cell_type": "markdown",
      "metadata": {
        "id": "QDPd1pYhYKnn"
      },
      "source": [
        "#### **Question 1**\n",
        "\n",
        "How many SARs were filed each year during the period of reporting?\n"
      ]
    },
    {
      "cell_type": "code",
      "metadata": {
        "id": "K2PlHF3aiOWP",
        "colab": {
          "base_uri": "https://localhost:8080/",
          "height": 1000
        },
        "outputId": "7f0816ee-0c7d-4e3e-f0d7-9300c0ccc855"
      },
      "source": [
        "# To change the data type of \"begin_date\" from object to datetime64[ns]:\n",
        "df_cleaned[\"begin_date\"] = pd.to_datetime(df_cleaned[\"begin_date\"])\n",
        "\n",
        "# Store \"begin_date\" & \"id\" column in 2 seperate dataframes, then combine them both:\n",
        "df_year = pd.DataFrame(df_cleaned[\"begin_date\"].dt.year).rename(columns = {\"begin_date\": \"Year\"}) \n",
        "df_id = pd.DataFrame(df[\"id\"]).rename(columns = {\"id\": \"Number of SARs Reported\"})  \n",
        "df_id_year = pd.concat([df_id, df_year], axis = 1, join = \"inner\")\n",
        "\n",
        "# Display the number of SARs reported each year in a dataframe:\n",
        "#df_id_year.groupby('Year').count().sum()   \n",
        "df_sar = df_id_year.groupby('Year').count() \n",
        "display(df_sar)\n",
        "\n",
        "# Plotting a bar graph to observe the trend\n",
        "sar_bar_plot = df_sar.plot(kind = 'bar', title = \"Number of SARs Reported by Years\", figsize = (15, 10), cmap = 'Purples_r', rot = 0.5, fontsize = 12)\n",
        "sar_bar_plot.set_xlabel(\"Year\", fontsize = 12)\n",
        "sar_bar_plot.set_ylabel(\"Number of SARs Reported\", fontsize = 12)\n",
        "plt.show()"
      ],
      "execution_count": 22,
      "outputs": [
        {
          "output_type": "display_data",
          "data": {
            "text/html": [
              "<div>\n",
              "<style scoped>\n",
              "    .dataframe tbody tr th:only-of-type {\n",
              "        vertical-align: middle;\n",
              "    }\n",
              "\n",
              "    .dataframe tbody tr th {\n",
              "        vertical-align: top;\n",
              "    }\n",
              "\n",
              "    .dataframe thead th {\n",
              "        text-align: right;\n",
              "    }\n",
              "</style>\n",
              "<table border=\"1\" class=\"dataframe\">\n",
              "  <thead>\n",
              "    <tr style=\"text-align: right;\">\n",
              "      <th></th>\n",
              "      <th>Number of SARs Reported</th>\n",
              "    </tr>\n",
              "    <tr>\n",
              "      <th>Year</th>\n",
              "      <th></th>\n",
              "    </tr>\n",
              "  </thead>\n",
              "  <tbody>\n",
              "    <tr>\n",
              "      <th>2000</th>\n",
              "      <td>9</td>\n",
              "    </tr>\n",
              "    <tr>\n",
              "      <th>2001</th>\n",
              "      <td>1</td>\n",
              "    </tr>\n",
              "    <tr>\n",
              "      <th>2002</th>\n",
              "      <td>3</td>\n",
              "    </tr>\n",
              "    <tr>\n",
              "      <th>2004</th>\n",
              "      <td>3</td>\n",
              "    </tr>\n",
              "    <tr>\n",
              "      <th>2005</th>\n",
              "      <td>3</td>\n",
              "    </tr>\n",
              "    <tr>\n",
              "      <th>2006</th>\n",
              "      <td>3</td>\n",
              "    </tr>\n",
              "    <tr>\n",
              "      <th>2007</th>\n",
              "      <td>91</td>\n",
              "    </tr>\n",
              "    <tr>\n",
              "      <th>2008</th>\n",
              "      <td>197</td>\n",
              "    </tr>\n",
              "    <tr>\n",
              "      <th>2009</th>\n",
              "      <td>186</td>\n",
              "    </tr>\n",
              "    <tr>\n",
              "      <th>2010</th>\n",
              "      <td>271</td>\n",
              "    </tr>\n",
              "    <tr>\n",
              "      <th>2011</th>\n",
              "      <td>557</td>\n",
              "    </tr>\n",
              "    <tr>\n",
              "      <th>2012</th>\n",
              "      <td>682</td>\n",
              "    </tr>\n",
              "    <tr>\n",
              "      <th>2013</th>\n",
              "      <td>705</td>\n",
              "    </tr>\n",
              "    <tr>\n",
              "      <th>2014</th>\n",
              "      <td>724</td>\n",
              "    </tr>\n",
              "    <tr>\n",
              "      <th>2015</th>\n",
              "      <td>510</td>\n",
              "    </tr>\n",
              "    <tr>\n",
              "      <th>2016</th>\n",
              "      <td>491</td>\n",
              "    </tr>\n",
              "    <tr>\n",
              "      <th>2017</th>\n",
              "      <td>41</td>\n",
              "    </tr>\n",
              "  </tbody>\n",
              "</table>\n",
              "</div>"
            ],
            "text/plain": [
              "      Number of SARs Reported\n",
              "Year                         \n",
              "2000                        9\n",
              "2001                        1\n",
              "2002                        3\n",
              "2004                        3\n",
              "2005                        3\n",
              "2006                        3\n",
              "2007                       91\n",
              "2008                      197\n",
              "2009                      186\n",
              "2010                      271\n",
              "2011                      557\n",
              "2012                      682\n",
              "2013                      705\n",
              "2014                      724\n",
              "2015                      510\n",
              "2016                      491\n",
              "2017                       41"
            ]
          },
          "metadata": {
            "tags": []
          }
        },
        {
          "output_type": "display_data",
          "data": {
            "image/png": "[encoded data removed]",
            "text/plain": [
              "<Figure size 1080x720 with 1 Axes>"
            ]
          },
          "metadata": {
            "tags": [],
            "needs_background": "light"
          }
        }
      ]
    },
    {
      "cell_type": "markdown",
      "metadata": {
        "id": "RG27Vh_yYKnq"
      },
      "source": [
        "by using the df_cleaned, our total number of SARs is now 4477"
      ]
    },
    {
      "cell_type": "markdown",
      "metadata": {
        "id": "T7bM0aztYKnr"
      },
      "source": [
        "#### **Question 2**\n",
        "How many reports have been filed where one transaction transferred $10,000 or more?\n"
      ]
    },
    {
      "cell_type": "code",
      "metadata": {
        "colab": {
          "base_uri": "https://localhost:8080/",
          "height": 416
        },
        "id": "dbvgJ-KaVUp8",
        "outputId": "128e0420-d271-4eae-f26e-f8a2dfab35c3"
      },
      "source": [
        "# Filter into 'number_transactions' == 1 & 'amount_transactions' >= 10000\n",
        "loc_threshold = df_cleaned.loc[(df_cleaned['number_transactions'] == 1) & (df_cleaned['amount_transactions'] >= 10000)]\n",
        "\n",
        "# Save results into a dataframe\n",
        "df_threshold = loc_threshold[['id', 'originator_bank', 'originator_bank_country', 'beneficiary_bank', 'beneficiary_bank_country', 'number_transactions', 'amount_transactions']]\n",
        "#print(df_threshold.count())   # Tala (just checking purposes)\n",
        "display(df_threshold)\n",
        "\n",
        "# Number of reports where 1 transaction transfered $10,000 or more\n",
        "print(\"\\nNumber of reports where 1 transaction transfered $10,000 or more:\", df_threshold['id'].count(), \"reported files\")"
      ],
      "execution_count": 23,
      "outputs": [
        {
          "output_type": "display_data",
          "data": {
            "text/html": [
              "<div>\n",
              "<style scoped>\n",
              "    .dataframe tbody tr th:only-of-type {\n",
              "        vertical-align: middle;\n",
              "    }\n",
              "\n",
              "    .dataframe tbody tr th {\n",
              "        vertical-align: top;\n",
              "    }\n",
              "\n",
              "    .dataframe thead th {\n",
              "        text-align: right;\n",
              "    }\n",
              "</style>\n",
              "<table border=\"1\" class=\"dataframe\">\n",
              "  <thead>\n",
              "    <tr style=\"text-align: right;\">\n",
              "      <th></th>\n",
              "      <th>id</th>\n",
              "      <th>originator_bank</th>\n",
              "      <th>originator_bank_country</th>\n",
              "      <th>beneficiary_bank</th>\n",
              "      <th>beneficiary_bank_country</th>\n",
              "      <th>number_transactions</th>\n",
              "      <th>amount_transactions</th>\n",
              "    </tr>\n",
              "  </thead>\n",
              "  <tbody>\n",
              "    <tr>\n",
              "      <th>94</th>\n",
              "      <td>223350</td>\n",
              "      <td>Barclays Bank Plc Ho UK</td>\n",
              "      <td>United Kingdom</td>\n",
              "      <td>Skandinaviska Enskilda Banken</td>\n",
              "      <td>Sweden</td>\n",
              "      <td>1.0</td>\n",
              "      <td>34644.35</td>\n",
              "    </tr>\n",
              "    <tr>\n",
              "      <th>95</th>\n",
              "      <td>223351</td>\n",
              "      <td>Barclays Bank Plc Ho UK</td>\n",
              "      <td>United Kingdom</td>\n",
              "      <td>Skandinaviska Enskilda Banken</td>\n",
              "      <td>Sweden</td>\n",
              "      <td>1.0</td>\n",
              "      <td>40000.00</td>\n",
              "    </tr>\n",
              "    <tr>\n",
              "      <th>96</th>\n",
              "      <td>223352</td>\n",
              "      <td>Barclays Bank Plc Ho UK</td>\n",
              "      <td>United Kingdom</td>\n",
              "      <td>Skandinaviska Enskilda Banken</td>\n",
              "      <td>Sweden</td>\n",
              "      <td>1.0</td>\n",
              "      <td>36855.87</td>\n",
              "    </tr>\n",
              "    <tr>\n",
              "      <th>98</th>\n",
              "      <td>223354</td>\n",
              "      <td>Natwest Offshore</td>\n",
              "      <td>Gibraltar</td>\n",
              "      <td>DNB Nor Bank Asa</td>\n",
              "      <td>Norway</td>\n",
              "      <td>1.0</td>\n",
              "      <td>70000.00</td>\n",
              "    </tr>\n",
              "    <tr>\n",
              "      <th>100</th>\n",
              "      <td>223356</td>\n",
              "      <td>Natwest Offshore</td>\n",
              "      <td>Gibraltar</td>\n",
              "      <td>DNB Nor Bank Asa</td>\n",
              "      <td>Norway</td>\n",
              "      <td>1.0</td>\n",
              "      <td>16510.00</td>\n",
              "    </tr>\n",
              "    <tr>\n",
              "      <th>...</th>\n",
              "      <td>...</td>\n",
              "      <td>...</td>\n",
              "      <td>...</td>\n",
              "      <td>...</td>\n",
              "      <td>...</td>\n",
              "      <td>...</td>\n",
              "      <td>...</td>\n",
              "    </tr>\n",
              "    <tr>\n",
              "      <th>4502</th>\n",
              "      <td>243956</td>\n",
              "      <td>ING Netherland NV</td>\n",
              "      <td>Netherlands</td>\n",
              "      <td>Rigenesis Bank AS</td>\n",
              "      <td>Latvia</td>\n",
              "      <td>1.0</td>\n",
              "      <td>20415554.55</td>\n",
              "    </tr>\n",
              "    <tr>\n",
              "      <th>4503</th>\n",
              "      <td>243957</td>\n",
              "      <td>Rigenesis Bank AS</td>\n",
              "      <td>Latvia</td>\n",
              "      <td>ING Netherland NV</td>\n",
              "      <td>Netherlands</td>\n",
              "      <td>1.0</td>\n",
              "      <td>23000000.00</td>\n",
              "    </tr>\n",
              "    <tr>\n",
              "      <th>4504</th>\n",
              "      <td>243958</td>\n",
              "      <td>ING Netherland NV</td>\n",
              "      <td>Netherlands</td>\n",
              "      <td>Rigenesis Bank AS</td>\n",
              "      <td>Latvia</td>\n",
              "      <td>1.0</td>\n",
              "      <td>23416000.00</td>\n",
              "    </tr>\n",
              "    <tr>\n",
              "      <th>4505</th>\n",
              "      <td>243959</td>\n",
              "      <td>Rigenesis Bank AS</td>\n",
              "      <td>Latvia</td>\n",
              "      <td>ING Netherland NV</td>\n",
              "      <td>Netherlands</td>\n",
              "      <td>1.0</td>\n",
              "      <td>33258935.96</td>\n",
              "    </tr>\n",
              "    <tr>\n",
              "      <th>4506</th>\n",
              "      <td>243960</td>\n",
              "      <td>ING Netherland NV</td>\n",
              "      <td>Netherlands</td>\n",
              "      <td>Rigenesis Bank AS</td>\n",
              "      <td>Latvia</td>\n",
              "      <td>1.0</td>\n",
              "      <td>33259000.00</td>\n",
              "    </tr>\n",
              "  </tbody>\n",
              "</table>\n",
              "<p>2230 rows × 7 columns</p>\n",
              "</div>"
            ],
            "text/plain": [
              "          id          originator_bank  ... number_transactions amount_transactions\n",
              "94    223350  Barclays Bank Plc Ho UK  ...                 1.0            34644.35\n",
              "95    223351  Barclays Bank Plc Ho UK  ...                 1.0            40000.00\n",
              "96    223352  Barclays Bank Plc Ho UK  ...                 1.0            36855.87\n",
              "98    223354         Natwest Offshore  ...                 1.0            70000.00\n",
              "100   223356         Natwest Offshore  ...                 1.0            16510.00\n",
              "...      ...                      ...  ...                 ...                 ...\n",
              "4502  243956        ING Netherland NV  ...                 1.0         20415554.55\n",
              "4503  243957        Rigenesis Bank AS  ...                 1.0         23000000.00\n",
              "4504  243958        ING Netherland NV  ...                 1.0         23416000.00\n",
              "4505  243959        Rigenesis Bank AS  ...                 1.0         33258935.96\n",
              "4506  243960        ING Netherland NV  ...                 1.0         33259000.00\n",
              "\n",
              "[2230 rows x 7 columns]"
            ]
          },
          "metadata": {
            "tags": []
          }
        },
        {
          "output_type": "stream",
          "text": [
            "\n",
            "Number of reports where 1 transaction transfered $10,000 or more: 2230 reported files\n"
          ],
          "name": "stdout"
        }
      ]
    },
    {
      "cell_type": "markdown",
      "metadata": {
        "id": "Dh5AiOKXYKnv"
      },
      "source": [
        "#### **Question 3**\n",
        "What is the frequency of transactions that were made within a certain period of time?\n"
      ]
    },
    {
      "cell_type": "code",
      "metadata": {
        "id": "eVp5srGFx1_8",
        "colab": {
          "base_uri": "https://localhost:8080/"
        },
        "outputId": "81322448-1cad-418f-d04a-3d5e2dcba7e0"
      },
      "source": [
        "# Congo\r\n",
        "# change end_date to datetime type (begin_date already done in q1)\r\n",
        "df_cleaned[\"end_date\"] = pd.to_datetime(df_cleaned[\"end_date\"])\r\n",
        "\r\n",
        "# 1. check begin date == end date\r\n",
        "df_locccc1 = df_cleaned.loc[(df_cleaned[\"begin_date\"] == df_cleaned[\"end_date\"])]\r\n",
        "\r\n",
        "# 2. amount transaction (money) < 10k\r\n",
        "df_locccc2 = df_locccc1.loc[(df_locccc1[\"amount_transactions\"] < 10000)]\r\n",
        "\r\n",
        "# 3. filter into origin_bank_country => congo, bank => Trust Merchant Bank Sarl\r\n",
        "df_locccc3 = df_locccc2.loc[(df_locccc2['originator_bank_country'] == 'Congo') & (df_locccc2['originator_bank'] == 'Trust Merchant Bank Sarl')]\r\n",
        "\r\n",
        "df_locccc = df_locccc3[['originator_bank', 'originator_bank_country', 'beneficiary_bank', 'beneficiary_bank_country', 'begin_date', 'end_date', 'number_transactions', 'amount_transactions']]\r\n",
        "df_locccc.count().sum()\r\n",
        "#df_locccc\r\n",
        "#df_locccc['number_transactions'].count().sum()"
      ],
      "execution_count": 7,
      "outputs": [
        {
          "output_type": "execute_result",
          "data": {
            "text/plain": [
              "376"
            ]
          },
          "metadata": {
            "tags": []
          },
          "execution_count": 7
        }
      ]
    },
    {
      "cell_type": "markdown",
      "metadata": {
        "id": "gJwQehRoYKnx"
      },
      "source": [
        "#### **Question 4**\n",
        "What is the correlation between the total number of suspicious transactions and the years it had occurred in?\n"
      ]
    },
    {
      "cell_type": "code",
      "metadata": {
        "id": "w7OKtGaDZIgT",
        "colab": {
          "base_uri": "https://localhost:8080/",
          "height": 1000
        },
        "outputId": "b37ebc3a-9604-4145-e208-ad7ba36926fc"
      },
      "source": [
        "# 1. store \"number_transactions\" in a seperate dataframe, then join it with the 'year' dataframe created previously   \r\n",
        "sus_trans = pd.DataFrame(df_cleaned[\"number_transactions\"]).rename(columns = {\"number_transactions\": \"Number of Transactions\"})  \r\n",
        "\r\n",
        "sus_trans_year = pd.concat([df_year, sus_trans], axis = 1, join = \"inner\")\r\n",
        "sum_sus_trans_year = sus_trans_year.groupby('Year').agg(np.sum)\r\n",
        "\r\n",
        "# 2. Displays the total transactions that were carried out by year\r\n",
        "display(sum_sus_trans_year)\r\n",
        "\r\n",
        "# 3. Actual value of correlation\r\n",
        "display('', sus_trans_year.corr(), '')\r\n",
        "\r\n",
        "# 4. Graphing a correlation matrix to determine whether or not there is a correlation between the 2 variables\r\n",
        "f = plt.figure(figsize = (5, 5))\r\n",
        "plt.matshow(sus_trans_year.corr(), fignum = f.number, cmap = 'RdPu')\r\n",
        "plt.xticks(range(sus_trans_year.select_dtypes(['number']).shape[1]), sus_trans_year.select_dtypes(['number']).columns, fontsize = 8)\r\n",
        "plt.yticks(range(sus_trans_year.select_dtypes(['number']).shape[1]), sus_trans_year.select_dtypes(['number']).columns, fontsize = 8)\r\n",
        "cb = plt.colorbar()\r\n",
        "cb.ax.tick_params(labelsize = 8)\r\n",
        "plt.title('Correlation Matrix', fontsize = 10);\r\n",
        "plt.show()\r\n",
        "print('')\r\n",
        "\r\n",
        "# 5. Plotting a bar graph to observe the trend\r\n",
        "bar_plot = sum_sus_trans_year.plot(kind = 'bar', title = \"Number of Transactions Across the Years\", figsize = (15, 10), cmap = 'Purples_r', rot = 0.5, fontsize = 12)\r\n",
        "bar_plot.set_xlabel(\"Year\", fontsize = 12)\r\n",
        "bar_plot.set_ylabel(\"Number of Transactions\", fontsize = 12)\r\n",
        "plt.show()"
      ],
      "execution_count": 24,
      "outputs": [
        {
          "output_type": "display_data",
          "data": {
            "text/html": [
              "<div>\n",
              "<style scoped>\n",
              "    .dataframe tbody tr th:only-of-type {\n",
              "        vertical-align: middle;\n",
              "    }\n",
              "\n",
              "    .dataframe tbody tr th {\n",
              "        vertical-align: top;\n",
              "    }\n",
              "\n",
              "    .dataframe thead th {\n",
              "        text-align: right;\n",
              "    }\n",
              "</style>\n",
              "<table border=\"1\" class=\"dataframe\">\n",
              "  <thead>\n",
              "    <tr style=\"text-align: right;\">\n",
              "      <th></th>\n",
              "      <th>Number of Transactions</th>\n",
              "    </tr>\n",
              "    <tr>\n",
              "      <th>Year</th>\n",
              "      <th></th>\n",
              "    </tr>\n",
              "  </thead>\n",
              "  <tbody>\n",
              "    <tr>\n",
              "      <th>2000</th>\n",
              "      <td>9.0</td>\n",
              "    </tr>\n",
              "    <tr>\n",
              "      <th>2001</th>\n",
              "      <td>1.0</td>\n",
              "    </tr>\n",
              "    <tr>\n",
              "      <th>2002</th>\n",
              "      <td>3.0</td>\n",
              "    </tr>\n",
              "    <tr>\n",
              "      <th>2004</th>\n",
              "      <td>177.0</td>\n",
              "    </tr>\n",
              "    <tr>\n",
              "      <th>2005</th>\n",
              "      <td>39.0</td>\n",
              "    </tr>\n",
              "    <tr>\n",
              "      <th>2006</th>\n",
              "      <td>29.0</td>\n",
              "    </tr>\n",
              "    <tr>\n",
              "      <th>2007</th>\n",
              "      <td>646.0</td>\n",
              "    </tr>\n",
              "    <tr>\n",
              "      <th>2008</th>\n",
              "      <td>752.0</td>\n",
              "    </tr>\n",
              "    <tr>\n",
              "      <th>2009</th>\n",
              "      <td>354.0</td>\n",
              "    </tr>\n",
              "    <tr>\n",
              "      <th>2010</th>\n",
              "      <td>533.0</td>\n",
              "    </tr>\n",
              "    <tr>\n",
              "      <th>2011</th>\n",
              "      <td>1231.0</td>\n",
              "    </tr>\n",
              "    <tr>\n",
              "      <th>2012</th>\n",
              "      <td>2386.0</td>\n",
              "    </tr>\n",
              "    <tr>\n",
              "      <th>2013</th>\n",
              "      <td>4484.0</td>\n",
              "    </tr>\n",
              "    <tr>\n",
              "      <th>2014</th>\n",
              "      <td>3157.0</td>\n",
              "    </tr>\n",
              "    <tr>\n",
              "      <th>2015</th>\n",
              "      <td>2506.0</td>\n",
              "    </tr>\n",
              "    <tr>\n",
              "      <th>2016</th>\n",
              "      <td>1803.0</td>\n",
              "    </tr>\n",
              "    <tr>\n",
              "      <th>2017</th>\n",
              "      <td>92.0</td>\n",
              "    </tr>\n",
              "  </tbody>\n",
              "</table>\n",
              "</div>"
            ],
            "text/plain": [
              "      Number of Transactions\n",
              "Year                        \n",
              "2000                     9.0\n",
              "2001                     1.0\n",
              "2002                     3.0\n",
              "2004                   177.0\n",
              "2005                    39.0\n",
              "2006                    29.0\n",
              "2007                   646.0\n",
              "2008                   752.0\n",
              "2009                   354.0\n",
              "2010                   533.0\n",
              "2011                  1231.0\n",
              "2012                  2386.0\n",
              "2013                  4484.0\n",
              "2014                  3157.0\n",
              "2015                  2506.0\n",
              "2016                  1803.0\n",
              "2017                    92.0"
            ]
          },
          "metadata": {
            "tags": []
          }
        },
        {
          "output_type": "display_data",
          "data": {
            "application/vnd.google.colaboratory.intrinsic+json": {
              "type": "string"
            },
            "text/plain": [
              "''"
            ]
          },
          "metadata": {
            "tags": []
          }
        },
        {
          "output_type": "display_data",
          "data": {
            "text/html": [
              "<div>\n",
              "<style scoped>\n",
              "    .dataframe tbody tr th:only-of-type {\n",
              "        vertical-align: middle;\n",
              "    }\n",
              "\n",
              "    .dataframe tbody tr th {\n",
              "        vertical-align: top;\n",
              "    }\n",
              "\n",
              "    .dataframe thead th {\n",
              "        text-align: right;\n",
              "    }\n",
              "</style>\n",
              "<table border=\"1\" class=\"dataframe\">\n",
              "  <thead>\n",
              "    <tr style=\"text-align: right;\">\n",
              "      <th></th>\n",
              "      <th>Year</th>\n",
              "      <th>Number of Transactions</th>\n",
              "    </tr>\n",
              "  </thead>\n",
              "  <tbody>\n",
              "    <tr>\n",
              "      <th>Year</th>\n",
              "      <td>1.000000</td>\n",
              "      <td>0.030432</td>\n",
              "    </tr>\n",
              "    <tr>\n",
              "      <th>Number of Transactions</th>\n",
              "      <td>0.030432</td>\n",
              "      <td>1.000000</td>\n",
              "    </tr>\n",
              "  </tbody>\n",
              "</table>\n",
              "</div>"
            ],
            "text/plain": [
              "                            Year  Number of Transactions\n",
              "Year                    1.000000                0.030432\n",
              "Number of Transactions  0.030432                1.000000"
            ]
          },
          "metadata": {
            "tags": []
          }
        },
        {
          "output_type": "display_data",
          "data": {
            "application/vnd.google.colaboratory.intrinsic+json": {
              "type": "string"
            },
            "text/plain": [
              "''"
            ]
          },
          "metadata": {
            "tags": []
          }
        },
        {
          "output_type": "display_data",
          "data": {
            "image/png": "[encoded data removed]",
            "text/plain": [
              "<Figure size 360x360 with 2 Axes>"
            ]
          },
          "metadata": {
            "tags": [],
            "needs_background": "light"
          }
        },
        {
          "output_type": "stream",
          "text": [
            "\n"
          ],
          "name": "stdout"
        },
        {
          "output_type": "display_data",
          "data": {
            "image/png": "[encoded data removed]",
            "text/plain": [
              "<Figure size 1080x720 with 1 Axes>"
            ]
          },
          "metadata": {
            "tags": [],
            "needs_background": "light"
          }
        }
      ]
    },
    {
      "cell_type": "markdown",
      "metadata": {
        "id": "u4T0t2q5YKny"
      },
      "source": [
        "notes: <br>\r\n",
        "- by referring to the correlation matrix, there is NO correlation between years and num. of transacs, cuz 0.02 is close to 0 (can plot a scatter plot if we wanna be EXTRA sure) <br>\r\n",
        "- peak of transactions occurred in the year 2013 (why? what happened in dis year? economical boom?) <br>\r\n",
        "-sudden spike in 2004 compared to 2002<br>\r\n",
        "-starting 2007 numbers kept slightly increasing<br>\r\n",
        "-2011~2015/2016 highlight of the years\r\n"
      ]
    },
    {
      "cell_type": "code",
      "metadata": {
        "colab": {
          "base_uri": "https://localhost:8080/",
          "height": 1000
        },
        "id": "qrhfiVUdr_oV",
        "outputId": "167c9e80-cd89-420d-afca-90c28304a87f"
      },
      "source": [
        "#### Data Mining ####\n",
        "#min-max normalization\n",
        "df_sar['Number of SARs Reported'] = (df_sar['Number of SARs Reported'] - df_sar['Number of SARs Reported'].min()) / (df_sar['Number of SARs Reported'].max() - df_sar['Number of SARs Reported'].min())\n",
        "display(df_sar)\n",
        "\n",
        "sum_sus_trans_year['Number of Transactions'] = (sum_sus_trans_year['Number of Transactions'] - sum_sus_trans_year['Number of Transactions'].min()) / (sum_sus_trans_year['Number of Transactions'].max() - sum_sus_trans_year['Number of Transactions'].min())\n",
        "display(sum_sus_trans_year)"
      ],
      "execution_count": 25,
      "outputs": [
        {
          "output_type": "display_data",
          "data": {
            "text/html": [
              "<div>\n",
              "<style scoped>\n",
              "    .dataframe tbody tr th:only-of-type {\n",
              "        vertical-align: middle;\n",
              "    }\n",
              "\n",
              "    .dataframe tbody tr th {\n",
              "        vertical-align: top;\n",
              "    }\n",
              "\n",
              "    .dataframe thead th {\n",
              "        text-align: right;\n",
              "    }\n",
              "</style>\n",
              "<table border=\"1\" class=\"dataframe\">\n",
              "  <thead>\n",
              "    <tr style=\"text-align: right;\">\n",
              "      <th></th>\n",
              "      <th>Number of SARs Reported</th>\n",
              "    </tr>\n",
              "    <tr>\n",
              "      <th>Year</th>\n",
              "      <th></th>\n",
              "    </tr>\n",
              "  </thead>\n",
              "  <tbody>\n",
              "    <tr>\n",
              "      <th>2000</th>\n",
              "      <td>0.011065</td>\n",
              "    </tr>\n",
              "    <tr>\n",
              "      <th>2001</th>\n",
              "      <td>0.000000</td>\n",
              "    </tr>\n",
              "    <tr>\n",
              "      <th>2002</th>\n",
              "      <td>0.002766</td>\n",
              "    </tr>\n",
              "    <tr>\n",
              "      <th>2004</th>\n",
              "      <td>0.002766</td>\n",
              "    </tr>\n",
              "    <tr>\n",
              "      <th>2005</th>\n",
              "      <td>0.002766</td>\n",
              "    </tr>\n",
              "    <tr>\n",
              "      <th>2006</th>\n",
              "      <td>0.002766</td>\n",
              "    </tr>\n",
              "    <tr>\n",
              "      <th>2007</th>\n",
              "      <td>0.124481</td>\n",
              "    </tr>\n",
              "    <tr>\n",
              "      <th>2008</th>\n",
              "      <td>0.271093</td>\n",
              "    </tr>\n",
              "    <tr>\n",
              "      <th>2009</th>\n",
              "      <td>0.255878</td>\n",
              "    </tr>\n",
              "    <tr>\n",
              "      <th>2010</th>\n",
              "      <td>0.373444</td>\n",
              "    </tr>\n",
              "    <tr>\n",
              "      <th>2011</th>\n",
              "      <td>0.769018</td>\n",
              "    </tr>\n",
              "    <tr>\n",
              "      <th>2012</th>\n",
              "      <td>0.941909</td>\n",
              "    </tr>\n",
              "    <tr>\n",
              "      <th>2013</th>\n",
              "      <td>0.973721</td>\n",
              "    </tr>\n",
              "    <tr>\n",
              "      <th>2014</th>\n",
              "      <td>1.000000</td>\n",
              "    </tr>\n",
              "    <tr>\n",
              "      <th>2015</th>\n",
              "      <td>0.704011</td>\n",
              "    </tr>\n",
              "    <tr>\n",
              "      <th>2016</th>\n",
              "      <td>0.677732</td>\n",
              "    </tr>\n",
              "    <tr>\n",
              "      <th>2017</th>\n",
              "      <td>0.055325</td>\n",
              "    </tr>\n",
              "  </tbody>\n",
              "</table>\n",
              "</div>"
            ],
            "text/plain": [
              "      Number of SARs Reported\n",
              "Year                         \n",
              "2000                 0.011065\n",
              "2001                 0.000000\n",
              "2002                 0.002766\n",
              "2004                 0.002766\n",
              "2005                 0.002766\n",
              "2006                 0.002766\n",
              "2007                 0.124481\n",
              "2008                 0.271093\n",
              "2009                 0.255878\n",
              "2010                 0.373444\n",
              "2011                 0.769018\n",
              "2012                 0.941909\n",
              "2013                 0.973721\n",
              "2014                 1.000000\n",
              "2015                 0.704011\n",
              "2016                 0.677732\n",
              "2017                 0.055325"
            ]
          },
          "metadata": {
            "tags": []
          }
        },
        {
          "output_type": "display_data",
          "data": {
            "text/html": [
              "<div>\n",
              "<style scoped>\n",
              "    .dataframe tbody tr th:only-of-type {\n",
              "        vertical-align: middle;\n",
              "    }\n",
              "\n",
              "    .dataframe tbody tr th {\n",
              "        vertical-align: top;\n",
              "    }\n",
              "\n",
              "    .dataframe thead th {\n",
              "        text-align: right;\n",
              "    }\n",
              "</style>\n",
              "<table border=\"1\" class=\"dataframe\">\n",
              "  <thead>\n",
              "    <tr style=\"text-align: right;\">\n",
              "      <th></th>\n",
              "      <th>Number of Transactions</th>\n",
              "    </tr>\n",
              "    <tr>\n",
              "      <th>Year</th>\n",
              "      <th></th>\n",
              "    </tr>\n",
              "  </thead>\n",
              "  <tbody>\n",
              "    <tr>\n",
              "      <th>2000</th>\n",
              "      <td>0.001785</td>\n",
              "    </tr>\n",
              "    <tr>\n",
              "      <th>2001</th>\n",
              "      <td>0.000000</td>\n",
              "    </tr>\n",
              "    <tr>\n",
              "      <th>2002</th>\n",
              "      <td>0.000446</td>\n",
              "    </tr>\n",
              "    <tr>\n",
              "      <th>2004</th>\n",
              "      <td>0.039259</td>\n",
              "    </tr>\n",
              "    <tr>\n",
              "      <th>2005</th>\n",
              "      <td>0.008476</td>\n",
              "    </tr>\n",
              "    <tr>\n",
              "      <th>2006</th>\n",
              "      <td>0.006246</td>\n",
              "    </tr>\n",
              "    <tr>\n",
              "      <th>2007</th>\n",
              "      <td>0.143877</td>\n",
              "    </tr>\n",
              "    <tr>\n",
              "      <th>2008</th>\n",
              "      <td>0.167522</td>\n",
              "    </tr>\n",
              "    <tr>\n",
              "      <th>2009</th>\n",
              "      <td>0.078742</td>\n",
              "    </tr>\n",
              "    <tr>\n",
              "      <th>2010</th>\n",
              "      <td>0.118671</td>\n",
              "    </tr>\n",
              "    <tr>\n",
              "      <th>2011</th>\n",
              "      <td>0.274370</td>\n",
              "    </tr>\n",
              "    <tr>\n",
              "      <th>2012</th>\n",
              "      <td>0.532010</td>\n",
              "    </tr>\n",
              "    <tr>\n",
              "      <th>2013</th>\n",
              "      <td>1.000000</td>\n",
              "    </tr>\n",
              "    <tr>\n",
              "      <th>2014</th>\n",
              "      <td>0.703993</td>\n",
              "    </tr>\n",
              "    <tr>\n",
              "      <th>2015</th>\n",
              "      <td>0.558778</td>\n",
              "    </tr>\n",
              "    <tr>\n",
              "      <th>2016</th>\n",
              "      <td>0.401963</td>\n",
              "    </tr>\n",
              "    <tr>\n",
              "      <th>2017</th>\n",
              "      <td>0.020299</td>\n",
              "    </tr>\n",
              "  </tbody>\n",
              "</table>\n",
              "</div>"
            ],
            "text/plain": [
              "      Number of Transactions\n",
              "Year                        \n",
              "2000                0.001785\n",
              "2001                0.000000\n",
              "2002                0.000446\n",
              "2004                0.039259\n",
              "2005                0.008476\n",
              "2006                0.006246\n",
              "2007                0.143877\n",
              "2008                0.167522\n",
              "2009                0.078742\n",
              "2010                0.118671\n",
              "2011                0.274370\n",
              "2012                0.532010\n",
              "2013                1.000000\n",
              "2014                0.703993\n",
              "2015                0.558778\n",
              "2016                0.401963\n",
              "2017                0.020299"
            ]
          },
          "metadata": {
            "tags": []
          }
        }
      ]
    },
    {
      "cell_type": "code",
      "metadata": {
        "colab": {
          "base_uri": "https://localhost:8080/",
          "height": 632
        },
        "id": "q5ohrVjJxXei",
        "outputId": "60295f75-e821-4265-9bca-f390320628c2"
      },
      "source": [
        "data = {'Year':  [2000, 2001, 2002, 2004, 2005, 2006, 2007, 2008, 2009,\r\n",
        "                  2010, 2011, 2012, 2013, 2014, 2015, 2016, 2017],\r\n",
        "        'Number of SARs Reported': [0.011065, 0.000000, 0.002766, 0.002766, 0.002766, 0.002766, 0.124481,\r\n",
        "                                    0.271093, 0.255878, 0.373444, 0.769018, 0.941909, 0.973721, 1.000000,\r\n",
        "                                    0.704011, 0.677732, 0.055325],\r\n",
        "        'Number of Transactions' : [0.001785, 0.000000, 0.000446, 0.039259, 0.008476, 0.006246, 0.143877, \r\n",
        "                                    0.167522, 0.078742, 0.118671, 0.274370, 0.532010, 1.000000, 0.703993,\r\n",
        "                                    0.558778, 0.401963, 0.020299]\r\n",
        "        }\r\n",
        "\r\n",
        "df_test = pd.DataFrame(data)\r\n",
        "df_test = df_test.set_index('Year')\r\n",
        "df_test\r\n",
        "\r\n",
        "#comparison multiple bar graph between SARs & Transactions\r\n",
        "ax = df_test.plot(kind = 'bar', figsize = (15, 10), color = ['#CC99FF','#993399'], rot = 0.5)\r\n",
        "plt.title(\"Number of SARs vs Number of Transactions\", fontsize = 18)\r\n",
        "plt.xlabel(\"Year\", fontsize = 15)\r\n",
        "plt.ylabel(\"Normalized Range\", fontsize = 15)\r\n",
        "plt.legend(loc = 'upper left')\r\n",
        "plt.show()"
      ],
      "execution_count": 26,
      "outputs": [
        {
          "output_type": "display_data",
          "data": {
            "image/png": "[encoded data removed]",
            "text/plain": [
              "<Figure size 1080x720 with 1 Axes>"
            ]
          },
          "metadata": {
            "tags": [],
            "needs_background": "light"
          }
        }
      ]
    },
    {
      "cell_type": "markdown",
      "metadata": {
        "id": "p1t2_RGnZIgU"
      },
      "source": [
        "### **Problem 2 - The overall behaviour of bank transactions across all countries**\n"
      ]
    },
    {
      "cell_type": "markdown",
      "metadata": {
        "id": "YlxdsFKGZIgU"
      },
      "source": [
        "#### **Question 1**\n",
        "Which top 10 countries sent the most money?\n"
      ]
    },
    {
      "cell_type": "code",
      "metadata": {
        "id": "I_7tMQXMYKnz",
        "colab": {
          "base_uri": "https://localhost:8080/",
          "height": 356
        },
        "outputId": "091b9a89-90a9-4c5c-d144-558a85ebc118"
      },
      "source": [
        "sent = df_cleaned[['originator_bank_country', 'amount_transactions']]\r\n",
        "sent.rename(columns = {\"originator_bank_country\": \"Originator Country\", \"amount_transactions\": \"Amount Transferred\"}, inplace = True)\r\n",
        "\r\n",
        "top_sent = sent.groupby('Originator Country').agg(np.sum).sort_values('Amount Transferred', ascending = False).head(10)\r\n",
        "top_sent"
      ],
      "execution_count": 28,
      "outputs": [
        {
          "output_type": "execute_result",
          "data": {
            "text/html": [
              "<div>\n",
              "<style scoped>\n",
              "    .dataframe tbody tr th:only-of-type {\n",
              "        vertical-align: middle;\n",
              "    }\n",
              "\n",
              "    .dataframe tbody tr th {\n",
              "        vertical-align: top;\n",
              "    }\n",
              "\n",
              "    .dataframe thead th {\n",
              "        text-align: right;\n",
              "    }\n",
              "</style>\n",
              "<table border=\"1\" class=\"dataframe\">\n",
              "  <thead>\n",
              "    <tr style=\"text-align: right;\">\n",
              "      <th></th>\n",
              "      <th>Amount Transferred</th>\n",
              "    </tr>\n",
              "    <tr>\n",
              "      <th>Originator Country</th>\n",
              "      <th></th>\n",
              "    </tr>\n",
              "  </thead>\n",
              "  <tbody>\n",
              "    <tr>\n",
              "      <th>Latvia</th>\n",
              "      <td>6.381732e+09</td>\n",
              "    </tr>\n",
              "    <tr>\n",
              "      <th>Netherlands</th>\n",
              "      <td>4.968203e+09</td>\n",
              "    </tr>\n",
              "    <tr>\n",
              "      <th>Switzerland</th>\n",
              "      <td>4.177792e+09</td>\n",
              "    </tr>\n",
              "    <tr>\n",
              "      <th>United Kingdom</th>\n",
              "      <td>3.559200e+09</td>\n",
              "    </tr>\n",
              "    <tr>\n",
              "      <th>Russia</th>\n",
              "      <td>3.500971e+09</td>\n",
              "    </tr>\n",
              "    <tr>\n",
              "      <th>Singapore</th>\n",
              "      <td>1.244935e+09</td>\n",
              "    </tr>\n",
              "    <tr>\n",
              "      <th>United States</th>\n",
              "      <td>1.189008e+09</td>\n",
              "    </tr>\n",
              "    <tr>\n",
              "      <th>Cayman Islands</th>\n",
              "      <td>1.020049e+09</td>\n",
              "    </tr>\n",
              "    <tr>\n",
              "      <th>Hong Kong</th>\n",
              "      <td>9.524613e+08</td>\n",
              "    </tr>\n",
              "    <tr>\n",
              "      <th>Belgium</th>\n",
              "      <td>9.157438e+08</td>\n",
              "    </tr>\n",
              "  </tbody>\n",
              "</table>\n",
              "</div>"
            ],
            "text/plain": [
              "                    Amount Transferred\n",
              "Originator Country                    \n",
              "Latvia                    6.381732e+09\n",
              "Netherlands               4.968203e+09\n",
              "Switzerland               4.177792e+09\n",
              "United Kingdom            3.559200e+09\n",
              "Russia                    3.500971e+09\n",
              "Singapore                 1.244935e+09\n",
              "United States             1.189008e+09\n",
              "Cayman Islands            1.020049e+09\n",
              "Hong Kong                 9.524613e+08\n",
              "Belgium                   9.157438e+08"
            ]
          },
          "metadata": {
            "tags": []
          },
          "execution_count": 28
        }
      ]
    },
    {
      "cell_type": "markdown",
      "metadata": {
        "id": "O6NASYnNZIgV"
      },
      "source": [
        "#### **Question 2**\n",
        "Which top 10 countries received the most money?\n"
      ]
    },
    {
      "cell_type": "code",
      "metadata": {
        "id": "2QRth-H4ZIgV",
        "colab": {
          "base_uri": "https://localhost:8080/",
          "height": 356
        },
        "outputId": "4862ed5e-4622-4329-8894-ad49c2a25d1b"
      },
      "source": [
        "received = df_cleaned[['beneficiary_bank_country','amount_transactions']]\r\n",
        "received.rename(columns = {\"beneficiary_bank_country\": \"Beneficiary Country\", \"amount_transactions\": \"Amount Received\"}, inplace = True)\r\n",
        "\r\n",
        "top_received = received.groupby('Beneficiary Country').agg(np.sum).sort_values('Amount Received', ascending = False).head(10)\r\n",
        "top_received"
      ],
      "execution_count": 29,
      "outputs": [
        {
          "output_type": "execute_result",
          "data": {
            "text/html": [
              "<div>\n",
              "<style scoped>\n",
              "    .dataframe tbody tr th:only-of-type {\n",
              "        vertical-align: middle;\n",
              "    }\n",
              "\n",
              "    .dataframe tbody tr th {\n",
              "        vertical-align: top;\n",
              "    }\n",
              "\n",
              "    .dataframe thead th {\n",
              "        text-align: right;\n",
              "    }\n",
              "</style>\n",
              "<table border=\"1\" class=\"dataframe\">\n",
              "  <thead>\n",
              "    <tr style=\"text-align: right;\">\n",
              "      <th></th>\n",
              "      <th>Amount Received</th>\n",
              "    </tr>\n",
              "    <tr>\n",
              "      <th>Beneficiary Country</th>\n",
              "      <th></th>\n",
              "    </tr>\n",
              "  </thead>\n",
              "  <tbody>\n",
              "    <tr>\n",
              "      <th>Russia</th>\n",
              "      <td>7.275339e+09</td>\n",
              "    </tr>\n",
              "    <tr>\n",
              "      <th>Latvia</th>\n",
              "      <td>3.947781e+09</td>\n",
              "    </tr>\n",
              "    <tr>\n",
              "      <th>Switzerland</th>\n",
              "      <td>3.740820e+09</td>\n",
              "    </tr>\n",
              "    <tr>\n",
              "      <th>Hong Kong</th>\n",
              "      <td>2.654767e+09</td>\n",
              "    </tr>\n",
              "    <tr>\n",
              "      <th>United Kingdom</th>\n",
              "      <td>2.308516e+09</td>\n",
              "    </tr>\n",
              "    <tr>\n",
              "      <th>Singapore</th>\n",
              "      <td>2.266139e+09</td>\n",
              "    </tr>\n",
              "    <tr>\n",
              "      <th>United States</th>\n",
              "      <td>1.823797e+09</td>\n",
              "    </tr>\n",
              "    <tr>\n",
              "      <th>Netherlands</th>\n",
              "      <td>1.755134e+09</td>\n",
              "    </tr>\n",
              "    <tr>\n",
              "      <th>Cayman Islands</th>\n",
              "      <td>1.052322e+09</td>\n",
              "    </tr>\n",
              "    <tr>\n",
              "      <th>Cyprus</th>\n",
              "      <td>1.021398e+09</td>\n",
              "    </tr>\n",
              "  </tbody>\n",
              "</table>\n",
              "</div>"
            ],
            "text/plain": [
              "                     Amount Received\n",
              "Beneficiary Country                 \n",
              "Russia                  7.275339e+09\n",
              "Latvia                  3.947781e+09\n",
              "Switzerland             3.740820e+09\n",
              "Hong Kong               2.654767e+09\n",
              "United Kingdom          2.308516e+09\n",
              "Singapore               2.266139e+09\n",
              "United States           1.823797e+09\n",
              "Netherlands             1.755134e+09\n",
              "Cayman Islands          1.052322e+09\n",
              "Cyprus                  1.021398e+09"
            ]
          },
          "metadata": {
            "tags": []
          },
          "execution_count": 29
        }
      ]
    },
    {
      "cell_type": "markdown",
      "metadata": {
        "id": "Uo6VHAQUZIgW"
      },
      "source": [
        "#### **Question 3**\n",
        "What are the top banks from the top 3 countries that has sent the most money throughout the years?\n"
      ]
    },
    {
      "cell_type": "code",
      "metadata": {
        "id": "ZeDK3JllZIgW",
        "colab": {
          "base_uri": "https://localhost:8080/",
          "height": 444
        },
        "outputId": "43cb6dc1-6c6c-48f6-c52f-caea95baae71"
      },
      "source": [
        "worst_1 = df_cleaned.loc[df_cleaned['originator_bank_country']=='Russia']\r\n",
        "worst_2 = df_cleaned.loc[df_cleaned['originator_bank_country']=='Latvia']\r\n",
        "worst_3 = df_cleaned.loc[df_cleaned['originator_bank_country']=='Switzerland']\r\n",
        "\r\n",
        "worst_1 = worst_1[['originator_bank','begin_date','amount_transactions']]\r\n",
        "worst_2 = worst_2[['originator_bank','begin_date','amount_transactions']]\r\n",
        "worst_3 = worst_3[['originator_bank','begin_date','amount_transactions']]\r\n",
        "# display(worst_1.head(10))\r\n",
        "# display(worst_2.head(10))\r\n",
        "# display(worst_3.head(10))\r\n",
        "\r\n",
        "# now that the dataframes are separated by each country, how to find which is the top bank for each dataframe\r\n",
        "#Russia\r\n",
        "w1_top3 = worst_1.set_index('originator_bank').groupby('originator_bank')\r\n",
        "df_Russia = pd.DataFrame(w1_top3.agg(np.sum).sort_values('amount_transactions', ascending = False).head(3))\r\n",
        "display(df_Russia)\r\n",
        "\r\n",
        "#Latvia\r\n",
        "w2_top3 = worst_2.set_index('originator_bank').groupby('originator_bank')\r\n",
        "df_Latvia = pd.DataFrame(w2_top3.agg(np.sum).sort_values('amount_transactions', ascending = False).head(3))\r\n",
        "display(df_Latvia)\r\n",
        "\r\n",
        "#Switzerland\r\n",
        "w3_top3 = worst_3.set_index('originator_bank').groupby('originator_bank')\r\n",
        "df_Switz = pd.DataFrame(w3_top3.agg(np.sum).sort_values('amount_transactions', ascending = False).head(3))\r\n",
        "display(df_Switz)"
      ],
      "execution_count": 30,
      "outputs": [
        {
          "output_type": "display_data",
          "data": {
            "text/html": [
              "<div>\n",
              "<style scoped>\n",
              "    .dataframe tbody tr th:only-of-type {\n",
              "        vertical-align: middle;\n",
              "    }\n",
              "\n",
              "    .dataframe tbody tr th {\n",
              "        vertical-align: top;\n",
              "    }\n",
              "\n",
              "    .dataframe thead th {\n",
              "        text-align: right;\n",
              "    }\n",
              "</style>\n",
              "<table border=\"1\" class=\"dataframe\">\n",
              "  <thead>\n",
              "    <tr style=\"text-align: right;\">\n",
              "      <th></th>\n",
              "      <th>amount_transactions</th>\n",
              "    </tr>\n",
              "    <tr>\n",
              "      <th>originator_bank</th>\n",
              "      <th></th>\n",
              "    </tr>\n",
              "  </thead>\n",
              "  <tbody>\n",
              "    <tr>\n",
              "      <th>Rosbank</th>\n",
              "      <td>1.207456e+09</td>\n",
              "    </tr>\n",
              "    <tr>\n",
              "      <th>Alfa Bank</th>\n",
              "      <td>2.966083e+08</td>\n",
              "    </tr>\n",
              "    <tr>\n",
              "      <th>Primorye Bank</th>\n",
              "      <td>2.055253e+08</td>\n",
              "    </tr>\n",
              "  </tbody>\n",
              "</table>\n",
              "</div>"
            ],
            "text/plain": [
              "                 amount_transactions\n",
              "originator_bank                     \n",
              "Rosbank                 1.207456e+09\n",
              "Alfa Bank               2.966083e+08\n",
              "Primorye Bank           2.055253e+08"
            ]
          },
          "metadata": {
            "tags": []
          }
        },
        {
          "output_type": "display_data",
          "data": {
            "text/html": [
              "<div>\n",
              "<style scoped>\n",
              "    .dataframe tbody tr th:only-of-type {\n",
              "        vertical-align: middle;\n",
              "    }\n",
              "\n",
              "    .dataframe tbody tr th {\n",
              "        vertical-align: top;\n",
              "    }\n",
              "\n",
              "    .dataframe thead th {\n",
              "        text-align: right;\n",
              "    }\n",
              "</style>\n",
              "<table border=\"1\" class=\"dataframe\">\n",
              "  <thead>\n",
              "    <tr style=\"text-align: right;\">\n",
              "      <th></th>\n",
              "      <th>amount_transactions</th>\n",
              "    </tr>\n",
              "    <tr>\n",
              "      <th>originator_bank</th>\n",
              "      <th></th>\n",
              "    </tr>\n",
              "  </thead>\n",
              "  <tbody>\n",
              "    <tr>\n",
              "      <th>AS Expobank</th>\n",
              "      <td>2.666430e+09</td>\n",
              "    </tr>\n",
              "    <tr>\n",
              "      <th>Rigensis Bank AS</th>\n",
              "      <td>1.311974e+09</td>\n",
              "    </tr>\n",
              "    <tr>\n",
              "      <th>Norvik Banka JSC</th>\n",
              "      <td>7.582468e+08</td>\n",
              "    </tr>\n",
              "  </tbody>\n",
              "</table>\n",
              "</div>"
            ],
            "text/plain": [
              "                  amount_transactions\n",
              "originator_bank                      \n",
              "AS Expobank              2.666430e+09\n",
              "Rigensis Bank AS         1.311974e+09\n",
              "Norvik Banka JSC         7.582468e+08"
            ]
          },
          "metadata": {
            "tags": []
          }
        },
        {
          "output_type": "display_data",
          "data": {
            "text/html": [
              "<div>\n",
              "<style scoped>\n",
              "    .dataframe tbody tr th:only-of-type {\n",
              "        vertical-align: middle;\n",
              "    }\n",
              "\n",
              "    .dataframe tbody tr th {\n",
              "        vertical-align: top;\n",
              "    }\n",
              "\n",
              "    .dataframe thead th {\n",
              "        text-align: right;\n",
              "    }\n",
              "</style>\n",
              "<table border=\"1\" class=\"dataframe\">\n",
              "  <thead>\n",
              "    <tr style=\"text-align: right;\">\n",
              "      <th></th>\n",
              "      <th>amount_transactions</th>\n",
              "    </tr>\n",
              "    <tr>\n",
              "      <th>originator_bank</th>\n",
              "      <th></th>\n",
              "    </tr>\n",
              "  </thead>\n",
              "  <tbody>\n",
              "    <tr>\n",
              "      <th>Gazprombank</th>\n",
              "      <td>8.814242e+08</td>\n",
              "    </tr>\n",
              "    <tr>\n",
              "      <th>Societe Generale Private Banking</th>\n",
              "      <td>7.600415e+08</td>\n",
              "    </tr>\n",
              "    <tr>\n",
              "      <th>Bank Julius Baer And Co. Ltd.</th>\n",
              "      <td>3.795185e+08</td>\n",
              "    </tr>\n",
              "  </tbody>\n",
              "</table>\n",
              "</div>"
            ],
            "text/plain": [
              "                                  amount_transactions\n",
              "originator_bank                                      \n",
              "Gazprombank                              8.814242e+08\n",
              "Societe Generale Private Banking         7.600415e+08\n",
              "Bank Julius Baer And Co. Ltd.            3.795185e+08"
            ]
          },
          "metadata": {
            "tags": []
          }
        }
      ]
    },
    {
      "cell_type": "markdown",
      "metadata": {
        "id": "ksJ-qOJUZIgW"
      },
      "source": [
        "#### **Question 4**\n",
        "What are the patterns that these banks exhibit when it comes to the total amount of suspicious transactions on a yearly basis?\n"
      ]
    },
    {
      "cell_type": "code",
      "metadata": {
        "id": "hFlri1cdZIgW",
        "colab": {
          "base_uri": "https://localhost:8080/",
          "height": 968
        },
        "outputId": "3bab7c5e-fe7c-4b98-d033-852f959aa23c"
      },
      "source": [
        "# 1. plot using one graph. Type: multiple line graph. It will have 3 lines (each line is a diff. color representing one bank by each country)\r\n",
        "#    x-axis: year , y-axis: amount of money\r\n",
        "\r\n",
        "# Rosbank of Russia\r\n",
        "rosbank_loc = df_cleaned.loc[(df_cleaned['originator_bank'] == 'Rosbank')]\r\n",
        "rosbank_loc = rosbank_loc[['begin_date', 'amount_transactions']]\r\n",
        "rosbank_year = pd.DataFrame(rosbank_loc[\"begin_date\"].dt.year).rename(columns = {\"begin_date\": \"Year\"}, inplace = False)\r\n",
        "rosbank_trans = pd.DataFrame(rosbank_loc[\"amount_transactions\"]).rename(columns = {\"amount_transactions\": \"Amount of Transactions\"}, inplace = False)  \r\n",
        "df_Rosbank = pd.concat([rosbank_trans, rosbank_year], axis = 1, join = \"inner\")\r\n",
        "df_Rosbank = df_Rosbank.groupby('Year').sum()\r\n",
        "\r\n",
        "# AS Expobank of Latvia\r\n",
        "AS_loc = df_cleaned.loc[(df_cleaned['originator_bank'] == 'AS Expobank')]\r\n",
        "AS_loc = AS_loc[['begin_date', 'amount_transactions']]\r\n",
        "AS_year = pd.DataFrame(AS_loc[\"begin_date\"].dt.year).rename(columns = {\"begin_date\": \"Year\"}, inplace = False)\r\n",
        "AS_trans = pd.DataFrame(AS_loc[\"amount_transactions\"]).rename(columns = {\"amount_transactions\": \"Amount of Transactions\"}, inplace = False)  \r\n",
        "df_AS = pd.concat([AS_trans, AS_year], axis = 1, join = \"inner\")\r\n",
        "df_AS = df_AS.groupby('Year').sum()\r\n",
        "\r\n",
        "# Gazprombank of Switzerland\r\n",
        "gaz_loc = df_cleaned.loc[(df_cleaned['originator_bank'] == 'Gazprombank')]\r\n",
        "gaz_loc = gaz_loc[['begin_date', 'amount_transactions']]\r\n",
        "gaz_year = pd.DataFrame(gaz_loc[\"begin_date\"].dt.year).rename(columns = {\"begin_date\": \"Year\"}, inplace = False)\r\n",
        "gaz_trans = pd.DataFrame(gaz_loc[\"amount_transactions\"]).rename(columns = {\"amount_transactions\": \"Amount of Transactions\"}, inplace = False)  \r\n",
        "df_gaz = pd.concat([gaz_trans, gaz_year], axis = 1, join = \"inner\")\r\n",
        "df_gaz = df_gaz.groupby('Year').sum()\r\n",
        "\r\n",
        "# Displaying dataframes\r\n",
        "print(\"Rosbank of Russia\")\r\n",
        "display(df_Rosbank)\r\n",
        "print(\"\\n\\nAS Expobank of Latvia\")\r\n",
        "display(df_AS)\r\n",
        "print(\"\\n\\nGazprombank of Switzerland\")\r\n",
        "display(df_gaz)\r\n",
        "print(\"\\n\\n\")"
      ],
      "execution_count": 32,
      "outputs": [
        {
          "output_type": "stream",
          "text": [
            "Rosbank of Russia\n"
          ],
          "name": "stdout"
        },
        {
          "output_type": "display_data",
          "data": {
            "text/html": [
              "<div>\n",
              "<style scoped>\n",
              "    .dataframe tbody tr th:only-of-type {\n",
              "        vertical-align: middle;\n",
              "    }\n",
              "\n",
              "    .dataframe tbody tr th {\n",
              "        vertical-align: top;\n",
              "    }\n",
              "\n",
              "    .dataframe thead th {\n",
              "        text-align: right;\n",
              "    }\n",
              "</style>\n",
              "<table border=\"1\" class=\"dataframe\">\n",
              "  <thead>\n",
              "    <tr style=\"text-align: right;\">\n",
              "      <th></th>\n",
              "      <th>Amount of Transactions</th>\n",
              "    </tr>\n",
              "    <tr>\n",
              "      <th>Year</th>\n",
              "      <th></th>\n",
              "    </tr>\n",
              "  </thead>\n",
              "  <tbody>\n",
              "    <tr>\n",
              "      <th>2007</th>\n",
              "      <td>7.311599e+05</td>\n",
              "    </tr>\n",
              "    <tr>\n",
              "      <th>2008</th>\n",
              "      <td>4.315354e+07</td>\n",
              "    </tr>\n",
              "    <tr>\n",
              "      <th>2010</th>\n",
              "      <td>1.143066e+08</td>\n",
              "    </tr>\n",
              "    <tr>\n",
              "      <th>2011</th>\n",
              "      <td>2.630180e+08</td>\n",
              "    </tr>\n",
              "    <tr>\n",
              "      <th>2012</th>\n",
              "      <td>1.873805e+08</td>\n",
              "    </tr>\n",
              "    <tr>\n",
              "      <th>2013</th>\n",
              "      <td>1.400000e+08</td>\n",
              "    </tr>\n",
              "    <tr>\n",
              "      <th>2014</th>\n",
              "      <td>4.128631e+08</td>\n",
              "    </tr>\n",
              "    <tr>\n",
              "      <th>2016</th>\n",
              "      <td>9.840000e+06</td>\n",
              "    </tr>\n",
              "    <tr>\n",
              "      <th>2017</th>\n",
              "      <td>3.616266e+07</td>\n",
              "    </tr>\n",
              "  </tbody>\n",
              "</table>\n",
              "</div>"
            ],
            "text/plain": [
              "      Amount of Transactions\n",
              "Year                        \n",
              "2007            7.311599e+05\n",
              "2008            4.315354e+07\n",
              "2010            1.143066e+08\n",
              "2011            2.630180e+08\n",
              "2012            1.873805e+08\n",
              "2013            1.400000e+08\n",
              "2014            4.128631e+08\n",
              "2016            9.840000e+06\n",
              "2017            3.616266e+07"
            ]
          },
          "metadata": {
            "tags": []
          }
        },
        {
          "output_type": "stream",
          "text": [
            "\n",
            "\n",
            "AS Expobank of Latvia\n"
          ],
          "name": "stdout"
        },
        {
          "output_type": "display_data",
          "data": {
            "text/html": [
              "<div>\n",
              "<style scoped>\n",
              "    .dataframe tbody tr th:only-of-type {\n",
              "        vertical-align: middle;\n",
              "    }\n",
              "\n",
              "    .dataframe tbody tr th {\n",
              "        vertical-align: top;\n",
              "    }\n",
              "\n",
              "    .dataframe thead th {\n",
              "        text-align: right;\n",
              "    }\n",
              "</style>\n",
              "<table border=\"1\" class=\"dataframe\">\n",
              "  <thead>\n",
              "    <tr style=\"text-align: right;\">\n",
              "      <th></th>\n",
              "      <th>Amount of Transactions</th>\n",
              "    </tr>\n",
              "    <tr>\n",
              "      <th>Year</th>\n",
              "      <th></th>\n",
              "    </tr>\n",
              "  </thead>\n",
              "  <tbody>\n",
              "    <tr>\n",
              "      <th>2012</th>\n",
              "      <td>1.755000e+07</td>\n",
              "    </tr>\n",
              "    <tr>\n",
              "      <th>2013</th>\n",
              "      <td>2.225152e+09</td>\n",
              "    </tr>\n",
              "    <tr>\n",
              "      <th>2014</th>\n",
              "      <td>1.946323e+08</td>\n",
              "    </tr>\n",
              "    <tr>\n",
              "      <th>2015</th>\n",
              "      <td>2.119498e+08</td>\n",
              "    </tr>\n",
              "    <tr>\n",
              "      <th>2016</th>\n",
              "      <td>1.714648e+07</td>\n",
              "    </tr>\n",
              "  </tbody>\n",
              "</table>\n",
              "</div>"
            ],
            "text/plain": [
              "      Amount of Transactions\n",
              "Year                        \n",
              "2012            1.755000e+07\n",
              "2013            2.225152e+09\n",
              "2014            1.946323e+08\n",
              "2015            2.119498e+08\n",
              "2016            1.714648e+07"
            ]
          },
          "metadata": {
            "tags": []
          }
        },
        {
          "output_type": "stream",
          "text": [
            "\n",
            "\n",
            "Gazprombank of Switzerland\n"
          ],
          "name": "stdout"
        },
        {
          "output_type": "display_data",
          "data": {
            "text/html": [
              "<div>\n",
              "<style scoped>\n",
              "    .dataframe tbody tr th:only-of-type {\n",
              "        vertical-align: middle;\n",
              "    }\n",
              "\n",
              "    .dataframe tbody tr th {\n",
              "        vertical-align: top;\n",
              "    }\n",
              "\n",
              "    .dataframe thead th {\n",
              "        text-align: right;\n",
              "    }\n",
              "</style>\n",
              "<table border=\"1\" class=\"dataframe\">\n",
              "  <thead>\n",
              "    <tr style=\"text-align: right;\">\n",
              "      <th></th>\n",
              "      <th>Amount of Transactions</th>\n",
              "    </tr>\n",
              "    <tr>\n",
              "      <th>Year</th>\n",
              "      <th></th>\n",
              "    </tr>\n",
              "  </thead>\n",
              "  <tbody>\n",
              "    <tr>\n",
              "      <th>2007</th>\n",
              "      <td>1.172816e+06</td>\n",
              "    </tr>\n",
              "    <tr>\n",
              "      <th>2010</th>\n",
              "      <td>7.628817e+07</td>\n",
              "    </tr>\n",
              "    <tr>\n",
              "      <th>2011</th>\n",
              "      <td>5.288370e+06</td>\n",
              "    </tr>\n",
              "    <tr>\n",
              "      <th>2013</th>\n",
              "      <td>8.125560e+08</td>\n",
              "    </tr>\n",
              "    <tr>\n",
              "      <th>2014</th>\n",
              "      <td>2.111456e+07</td>\n",
              "    </tr>\n",
              "    <tr>\n",
              "      <th>2015</th>\n",
              "      <td>5.000000e+06</td>\n",
              "    </tr>\n",
              "    <tr>\n",
              "      <th>2016</th>\n",
              "      <td>3.000000e+06</td>\n",
              "    </tr>\n",
              "    <tr>\n",
              "      <th>2017</th>\n",
              "      <td>2.480000e+06</td>\n",
              "    </tr>\n",
              "  </tbody>\n",
              "</table>\n",
              "</div>"
            ],
            "text/plain": [
              "      Amount of Transactions\n",
              "Year                        \n",
              "2007            1.172816e+06\n",
              "2010            7.628817e+07\n",
              "2011            5.288370e+06\n",
              "2013            8.125560e+08\n",
              "2014            2.111456e+07\n",
              "2015            5.000000e+06\n",
              "2016            3.000000e+06\n",
              "2017            2.480000e+06"
            ]
          },
          "metadata": {
            "tags": []
          }
        },
        {
          "output_type": "stream",
          "text": [
            "\n",
            "\n",
            "\n"
          ],
          "name": "stdout"
        }
      ]
    },
    {
      "cell_type": "code",
      "metadata": {
        "colab": {
          "base_uri": "https://localhost:8080/",
          "height": 518
        },
        "id": "IoJyWEYydqPP",
        "outputId": "456a1512-6522-4224-c3e5-2020353b25fc"
      },
      "source": [
        "# Plotting a multiple lines graph to observe the pattern between these 3 banks\n",
        "r_year = [2007, 2008, 2010, 2011, 2012, 2013, 2014, 2016, 2017]    ## Rosbank\n",
        "AS_year = [2012, 2013, 2014, 2015, 2016]                           ## AS Expobank\n",
        "g_year = [2007, 2010, 2011, 2013, 2014, 2015, 2016, 2017]          ## Gazprombank\n",
        "\n",
        "# Multiple lines graph - to observe the pattern between these 3 banks\n",
        "fig = plt.figure(figsize=(10,8))\n",
        "plt.plot(r_year, df_Rosbank['Amount of Transactions'], color = 'c')\n",
        "plt.plot(AS_year, df_AS['Amount of Transactions'], color = 'purple')\n",
        "plt.plot(g_year, df_gaz['Amount of Transactions'], color = 'magenta')\n",
        "plt.xlabel('Year', fontsize = 14)\n",
        "plt.ylabel('Amount of Transactions (in Billions)', fontsize = 14)\n",
        "plt.title('Amount of Transactions Across the Years of Top Bank from 3 Top Countries', fontsize = 14)\n",
        "plt.legend(['Rosbank', 'AS Expobank', 'Gazprombank'], loc = 'upper left')\n",
        "plt.grid(True)\n",
        "plt.show()"
      ],
      "execution_count": 33,
      "outputs": [
        {
          "output_type": "display_data",
          "data": {
            "image/png": "[encoded data removed]",
            "text/plain": [
              "<Figure size 720x576 with 1 Axes>"
            ]
          },
          "metadata": {
            "tags": [],
            "needs_background": "light"
          }
        }
      ]
    }
  ]
}